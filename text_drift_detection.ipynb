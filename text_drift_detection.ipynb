{
 "cells": [
  {
   "cell_type": "code",
   "execution_count": 1,
   "metadata": {},
   "outputs": [
    {
     "name": "stderr",
     "output_type": "stream",
     "text": [
      "/anaconda/envs/py312/lib/python3.12/site-packages/tqdm/auto.py:21: TqdmWarning: IProgress not found. Please update jupyter and ipywidgets. See https://ipywidgets.readthedocs.io/en/stable/user_install.html\n",
      "  from .autonotebook import tqdm as notebook_tqdm\n"
     ]
    },
    {
     "name": "stdout",
     "output_type": "stream",
     "text": [
      "GPU available\n"
     ]
    }
   ],
   "source": [
    "import pickle\n",
    "import transformers\n",
    "import torch\n",
    "import pandas as pd\n",
    "\n",
    "if torch.cuda.is_available():\n",
    "    device = torch.device('cuda')\n",
    "    print('GPU available')\n",
    "else:\n",
    "    device = torch.device('cpu')\n",
    "    print('Uh oh, GPU unavailable')"
   ]
  },
  {
   "cell_type": "code",
   "execution_count": 2,
   "metadata": {},
   "outputs": [],
   "source": [
    "def assemble_data() -> pd.DataFrame:\n",
    "    biden_first: list[tuple[any, str]] = pickle.load(open(\"biden_first_half.pickle\", 'rb'))\n",
    "    biden_last = pickle.load(open(\"biden_last_half.pickle\", 'rb'))\n",
    "    biden_first.extend(biden_last)\n",
    "    return pd.DataFrame(biden_first, columns=[\"datetime\", \"tweet\"])\n",
    "\n",
    "biden_df = assemble_data()"
   ]
  },
  {
   "cell_type": "code",
   "execution_count": 23,
   "metadata": {},
   "outputs": [
    {
     "data": {
      "text/html": [
       "<div>\n",
       "<style scoped>\n",
       "    .dataframe tbody tr th:only-of-type {\n",
       "        vertical-align: middle;\n",
       "    }\n",
       "\n",
       "    .dataframe tbody tr th {\n",
       "        vertical-align: top;\n",
       "    }\n",
       "\n",
       "    .dataframe thead th {\n",
       "        text-align: right;\n",
       "    }\n",
       "</style>\n",
       "<table border=\"1\" class=\"dataframe\">\n",
       "  <thead>\n",
       "    <tr style=\"text-align: right;\">\n",
       "      <th></th>\n",
       "      <th>datetime</th>\n",
       "      <th>tweet</th>\n",
       "    </tr>\n",
       "  </thead>\n",
       "  <tbody>\n",
       "    <tr>\n",
       "      <th>0</th>\n",
       "      <td>2020-10-15 00:00:20</td>\n",
       "      <td>@IslandGirlPRV @BradBeauregardJ @MeidasTouch T...</td>\n",
       "    </tr>\n",
       "    <tr>\n",
       "      <th>1</th>\n",
       "      <td>2020-10-15 00:00:21</td>\n",
       "      <td>@chrislongview Watching and setting dvr. Lets ...</td>\n",
       "    </tr>\n",
       "    <tr>\n",
       "      <th>2</th>\n",
       "      <td>2020-10-15 00:00:22</td>\n",
       "      <td>#censorship #HunterBiden #Biden #BidenEmails #...</td>\n",
       "    </tr>\n",
       "    <tr>\n",
       "      <th>3</th>\n",
       "      <td>2020-10-15 00:00:23</td>\n",
       "      <td>\"IS THIS WRONG??!!\" Cory Booker's BRILLIANT Fi...</td>\n",
       "    </tr>\n",
       "    <tr>\n",
       "      <th>4</th>\n",
       "      <td>2020-10-15 00:00:25</td>\n",
       "      <td>In 2020, #NYPost is being #censorship #CENSORE...</td>\n",
       "    </tr>\n",
       "    <tr>\n",
       "      <th>...</th>\n",
       "      <td>...</td>\n",
       "      <td>...</td>\n",
       "    </tr>\n",
       "    <tr>\n",
       "      <th>521116</th>\n",
       "      <td>2020-11-08 23:59:16</td>\n",
       "      <td>Mr. #Biden, tear down that wall (with #Mexico)...</td>\n",
       "    </tr>\n",
       "    <tr>\n",
       "      <th>521117</th>\n",
       "      <td>2020-11-08 23:59:32</td>\n",
       "      <td>NYT: #BeratAlbayraks departure may also signal...</td>\n",
       "    </tr>\n",
       "    <tr>\n",
       "      <th>521118</th>\n",
       "      <td>2020-11-08 23:59:33</td>\n",
       "      <td>@staceyabrams Thank you for all your support a...</td>\n",
       "    </tr>\n",
       "    <tr>\n",
       "      <th>521119</th>\n",
       "      <td>2020-11-08 23:59:34</td>\n",
       "      <td>@elnuevoherald LOS MEDIOS A LA FUERZA QUIEREN ...</td>\n",
       "    </tr>\n",
       "    <tr>\n",
       "      <th>521120</th>\n",
       "      <td>2020-11-08 23:59:38</td>\n",
       "      <td>Stop laying @CNN ! #Paris and #London dont giv...</td>\n",
       "    </tr>\n",
       "  </tbody>\n",
       "</table>\n",
       "<p>521121 rows × 2 columns</p>\n",
       "</div>"
      ],
      "text/plain": [
       "                  datetime                                              tweet\n",
       "0      2020-10-15 00:00:20  @IslandGirlPRV @BradBeauregardJ @MeidasTouch T...\n",
       "1      2020-10-15 00:00:21  @chrislongview Watching and setting dvr. Lets ...\n",
       "2      2020-10-15 00:00:22  #censorship #HunterBiden #Biden #BidenEmails #...\n",
       "3      2020-10-15 00:00:23  \"IS THIS WRONG??!!\" Cory Booker's BRILLIANT Fi...\n",
       "4      2020-10-15 00:00:25  In 2020, #NYPost is being #censorship #CENSORE...\n",
       "...                    ...                                                ...\n",
       "521116 2020-11-08 23:59:16  Mr. #Biden, tear down that wall (with #Mexico)...\n",
       "521117 2020-11-08 23:59:32  NYT: #BeratAlbayraks departure may also signal...\n",
       "521118 2020-11-08 23:59:33  @staceyabrams Thank you for all your support a...\n",
       "521119 2020-11-08 23:59:34  @elnuevoherald LOS MEDIOS A LA FUERZA QUIEREN ...\n",
       "521120 2020-11-08 23:59:38  Stop laying @CNN ! #Paris and #London dont giv...\n",
       "\n",
       "[521121 rows x 2 columns]"
      ]
     },
     "execution_count": 23,
     "metadata": {},
     "output_type": "execute_result"
    }
   ],
   "source": [
    "biden_df"
   ]
  },
  {
   "cell_type": "code",
   "execution_count": 24,
   "metadata": {},
   "outputs": [],
   "source": [
    "post_debate_date = \"2020-10-23\"\n",
    "post_election_date = \"2020-11-04\"\n",
    "biden_pre_debate = biden_df[biden_df[\"datetime\"] < post_debate_date]\n",
    "biden_post_debate = biden_df[(biden_df[\"datetime\"] >= post_debate_date) & (biden_df[\"datetime\"] < post_election_date)]\n",
    "biden_post_election = biden_df[biden_df[\"datetime\"] > post_election_date]"
   ]
  },
  {
   "cell_type": "code",
   "execution_count": 25,
   "metadata": {},
   "outputs": [
    {
     "name": "stderr",
     "output_type": "stream",
     "text": [
      "/anaconda/envs/py312/lib/python3.12/site-packages/transformers/tokenization_utils_base.py:1601: FutureWarning: `clean_up_tokenization_spaces` was not set. It will be set to `True` by default. This behavior will be depracted in transformers v4.45, and will be then set to `False` by default. For more details check this issue: https://github.com/huggingface/transformers/issues/31884\n",
      "  warnings.warn(\n"
     ]
    }
   ],
   "source": [
    "model_checkpoint = \"bert-base-multilingual-cased\"\n",
    "tokenizer = transformers.BertTokenizer.from_pretrained(model_checkpoint)\n",
    "model = transformers.BertModel.from_pretrained(model_checkpoint)"
   ]
  },
  {
   "cell_type": "code",
   "execution_count": 26,
   "metadata": {},
   "outputs": [],
   "source": [
    "subset = biden_pre_debate[\"tweet\"].sample(100)"
   ]
  },
  {
   "cell_type": "code",
   "execution_count": 28,
   "metadata": {},
   "outputs": [
    {
     "data": {
      "text/plain": [
       "[\"#Biden corruption kickbacks scandal seems like small change for our Chinese Gandees. All political dynasties including regional ones treat such kickbacks &amp; privilege of father's office as Standard Operating Procedure https://t.co/N0cBZssQ6m\",\n",
       " 'Tens of thousands of murderers at the Womens March literally yesterday and @JoeBiden doesnt condemn them. Only Trump. #Biden is such a liar and an embarrassment to honesty in #America. #BidenCrimeFamily #Ukraine #Russia #HunterBiden https://t.co/V9uuWm2HGs https://t.co/P5aizttcUz',\n",
       " \"#Biden is not runn'n for president. Kammy is. If yoo think HE is...Look at this beautifool oceanfront property for sale! https://t.co/L3K0sbDotI\",\n",
       " '@JesusOfTheWest All good man. #Biden is corrupt and showing signs of being senile. Trump at least made his money on the private side. Vote for who you like. Ill vote for who I know is the better candidate. No response needed.',\n",
       " \"@bennyjohnson Did you hear about VP J. #Biden giving information to the CCP then after 30 or so CIA's agents got exposed and killed in China? Could this story be real or fake?\",\n",
       " '#jo #biden is a #Politician with #heart and #intelligence and #healthy #realistic #understanding! yes he is not the yougest, but a man with #plenty of #Experience see this: https://t.co/SBuDECwt6N https://t.co/ALarSBIwrP',\n",
       " '#TheDemocrats #JoeBiden #Chinas Wh*re... https://t.co/GDjKmtPnwV',\n",
       " \"@B52Malmet Take a look at some of Joe Biden's history for yourself and make a decision #BlacksForTrump #BlackLivesMatter #JoeBiden https://t.co/MZcCVK6cKT\",\n",
       " 'America stands for justice for all not for just for the 1%-ers. #BidenHarris2020 #Biden #BidenHarrisToSaveAmerica #BidenHarrisLandslide2020 #VoteBlueDownTheBallot https://t.co/MbQPTeo5oT',\n",
       " '@mroy62 @dgordon52 @BrianAngelle Those numbers are easily proved as BS. Want me to show you? Those numbers never played out in any country. So regardless how you spin it - other leaders in other countries have done a far better job at managing #coronavirus than #Trump. Thats the bottom line. Vote #JoeBiden',\n",
       " 'Im shocked that no one has asked a #HunterBiden question tonight. #WheresHunter #BidenTownHall #BidenTownHallOnABC #Biden #MAGA #TownHall https://t.co/hT0eAi2g5i',\n",
       " '@NBCNews What a discrace. #BlackLivesMatter #GOPHypocrisy #GOPBetrayedAmerica #GOPComplicitTraitors #ForTheSoulOfTheNation #VoteBidenHarris #JoeBiden #Biden2020 #VoteBlueToEndThisNightmare #BidenHarris #VoteHimOut #BlueWave #RidinWithBiden #VoteForJoe #BlueTsunami #captaincovid',\n",
       " '#EXPOSED: #JoeBiden &gt;&gt;&gt; just watched Ex Hunter #Biden associate address #media #LIVE on #FOX, exposing \"Big Guy Joe\" and #BidenFamilyCorruption in #China deal.',\n",
       " '@washingtonpost Can you imagine how Rich Hunter Biden will become if his dad is elected, not to mention #Biden who will get 30% off the top, from his sons \"Investors\". The Mob is jealous of the Biden Crime Family Operation... Good on you #JoeBiden and #HunterBiden make that Bank. #cnn',\n",
       " '@donwinslow Of course #joebiden',\n",
       " '@mviser @DesjardinsKarla Incredible stamina. I am much younger and dont have that kind of strength. #Biden #BidenTownHall #TownHall #BidenHarris2020',\n",
       " '#BidenTownHall #Biden #BidensUnitingUS #BidenHarrisLandslide2020 #BidenWonTheDebate #BidenHarrisToSaveAmerica #TrumpCrimeFamily #TrumpLied200KDied https://t.co/XLqvl2YN7p',\n",
       " '@Laurieluvsmolly @DineshDSouza @realDonaldTrump #Democrat s need to watch this. \" #JoeBiden wouldn\\'t even get security clearance at this point, how can he be president\" Watch it until the end and then decide, they cover many topics associated with the source of the #Hunterbidenlaptop, not just fluff. https://t.co/DIjhppNQSI',\n",
       " 'If elected #POTUS will #JoeBiden continue to call a lid every day after being sworn in? Is he not physically fit to walk and chew gum at the same time? Who does this?',\n",
       " \"@jsxvvy23 @MedicMom12 @TiwariWoodruf @PamBondi @JudgeJeanine @TeamTrump @realDonaldTrump @WomenforTrump @DanScavino #Biden openly gropes children in front of the cameras/our faces yet a grown man taking about adult things, in private, concerns you more? I've heard worse from every day people in regular conversation and it's cringe worthy yet acceptable to most. What's the real issue here?\",\n",
       " \"Hey #JoeBiden, 8-year old's can also think they're astronauts...should we give them rocket ships? YOU BUFFOON! One's inability to comport physical reality with conceptualized identity constructs is cognitive dissonance - NOT TRANS-ANYTHING! #BlameTrump #JoeBidensNeighborhood https://t.co/1sZEXN3ero https://t.co/LdFKkcRNb6\",\n",
       " 'I am expecting my Biden Harris sign today. Maybe Ill meet some nice neighbors too! #BidenHarris #BidenHarris2020 #biden https://t.co/x1cowSa2ZW',\n",
       " '@joncoopertweets @JoeBiden Also, vote for #JoeBiden so we can get off Zoom and hug again.',\n",
       " 'No wonder #Biden has put a lid till... #WheresHunter https://t.co/DAemrjP6Wz',\n",
       " '#democrats if you love your party answer this simple question why do all the #HunterBidenEmails lead to #Biden https://t.co/lUVBgNv1Af',\n",
       " \"The line of cars with Biden flags and signs voting today in the East Valley in #Arizona is the sign you're looking for. This is is the #BidenHarris2020Landslide America is looking for. Real Plans. Really #MadeInAmerica ...Real, American President #Biden #BidenHarris2020 https://t.co/bnDB2GLdSv\",\n",
       " 'Come on #Texas! Vote for #JoeBiden https://t.co/QEu0nzniMY',\n",
       " \"Back in 2018, before the #HunterBiden laptop, before '10 held by H for the #BigGuy,' the #NYTimes reported on #China's #CEFC courting #Washington, and the #bribery and shady #InfluencePeddling of tycoon #YeJianming. #Biden #Bribes #Kickbacks https://t.co/iR6wPIf69n\",\n",
       " '@kayleighmcenany How depressing for you to live in the toxic world of MAGA. All about lies, deceit, hate, bigotry and corruption. Soul-sucking. What a toxic stew youve chosen for yourselves. I choose honor, integrity love, hope and justice. #IChooseJoe #JoeBiden #VoteBlueDownBallot',\n",
       " \"Here we go again, but what's hype and what's real in the #Biden accusations? Our international relations/ US politics expert Dr Luis da Vinha is on top of all things pre-election and shared his views with @thewireradio #USPolitics #USElection2020 https://t.co/CMekKGpMua\",\n",
       " \"#LaptopFromHell Why Would #HunterBiden Drop Off 3 Laptops With Sensitive Information For Data Recovery? Was This Ransom Wear Or Some Other Virus That Locked Up #HunterBiden Computer? Wouldn't #JoeBiden Know Of A Computer Person That Could Recover A Hard Drive, Not A Random Shop\",\n",
       " 'a fait bim, bam, boum #bimbamboum #Trump #Biden #Democrats @realDonaldTrump @JoeBiden @Tof_Beaugrand https://t.co/voyJkG1ANt',\n",
       " 'That lady with the red mask behind trump is driving me nuts! #trump #TownHall #biden #BidenWillCrushCovid #Debates2020 #nbc',\n",
       " 'Watch LIVE: President Trump Holds Campaign Event in Muskegon, #MI 10/17/20 https://t.co/8lUYUvfBQy via @YouTube President @realDonaldTrump works his ass off! #JoeBiden doesnt have the energy!',\n",
       " '@EricTrump My question to you is! Why is #BarackObama #JoeBiden #HillaryClinton not in jail for treason, corruption, fraud, money laundering and other criminal crimes? Why Latinos and @LatinoUnited vote for a criminal as #JoeBiden? \"Biden\\'s family is a crime family\" https://t.co/4erE56jz1h',\n",
       " 'Inspiring. Thank you @Lin_Manuel @HamiltonMusical! #VOTE #JoeBiden https://t.co/WXHufijFj0',\n",
       " '#BIDEN CAN DO ALOT WITH HIS $10 MILLION FOR THE BIG GUY HE JUST ACTS LIKE HE IS NOT THAT BIG GUY IN E-MAILS FROM BUILT IN CHINA OR HUNTER SOLD CHINA BIDEN FAMILY NAME MAYBE YOU WANT A BIDEN HOUSE BUILT IN IRAQ GOVT. DEAL BIDEN SHOULD HAVE QUIT WHILE AHEAD NOW TREASON BY A TRAITOR https://t.co/zoNNF1eFBw',\n",
       " '@JasonPoirier @lordhelpus12 @AgileTator @Jamiles Yeah ... but it is kinda still YIKES; if you add #JoeBidens touchy feels action on little girls (Outside the bounds of morality, acceptable behaviour or good judgement, etc.) Dang C-SPAN lasts forever (unless they try to scrub it too) https://t.co/ueSOiKQPSp',\n",
       " 'Clear that #twitter #TwitterCensorship works for corrupt #biden. They also promote him. Every time I sign into twitter, I see a biden tweet at top of my feed bc someone I follow supposedly \"liked\" it. Different person I follow every time, and I only follow pro-Trump. @HawleyMO https://t.co/ayGJwCXuHX',\n",
       " '@JasonMillerinDC @nypost Okay... this is pretty bombshellinish. If the MSM doesnt report this, there is a dereliction of duty on their part. #Biden',\n",
       " 'Expose the corrupt #JoeBiden family. #CrookedJoeBiden #Corruption #CorruptJoeBiden https://t.co/IJ4L5KQ8ri',\n",
       " 'Anyone who wants 4 more years of @realDonaldTrump is the BIGLIEST idiot in the world...or an awful person. It can only be one. Well, perhaps both. But NOT neither. #JoeBidenKamalaHarris2020 #vote #Vote2020 #election #biden #bidenharris #BlueWave2020 #trump #maga #kag #TrumpVirus https://t.co/0cCPDd1vnb',\n",
       " \"It's worse than #Biden knowing about #Hunter deals, that he helped Hunter get those deals, that Biden got 50% cut to for himself. It's worse than the drugs &amp; pics w/ prostitutes. It's even worse than that. #FactsMatter https://t.co/DXEKkA6a3G\",\n",
       " '#JoeBiden is most #definitely #Scared hes #running from the #big #embarrassing #China #payoffs , #Joe and #Hunter are in big #trouble This could be #treason',\n",
       " '@CNN #Trump shut down travel from China Jan 10 days after learning of #COVID19 (Biden criticized him 4 being racist &amp; Xenophobic-on tape). Would have MILLIONS more deaths under #POTUS #Biden (gag). 60 Million had swine flu under Biden/Obama vs 8 mil COVID under Trump #Debates2020 #NBC',\n",
       " 'After seeing this @realDonaldTrump campaign add I am no longer an undecided voter I will be voting for #Trump because of this this add, and you should too! #Trump2020 #MAGA #JoeBiden #HunterBidenEmails https://t.co/siUmghUYVM',\n",
       " \"@PeteButtigieg @JoeBiden Hell, yes, I do, #MayorPete ! I'm counting on Joe #Biden to level the playing field a little bit and restore some concern for ordinary Americans to the White House. #BidenHarrisToSaveAmerica\",\n",
       " 'Predictit odds on this date 2016: Clinton 83, Trump 21. 2020: Biden 65, Trump 40. The prophets have been wrong before. #Biden #Trump',\n",
       " '#Biden #CorruptBiden #CCP Joe, Shame On You. You Crapped On America And Her People To Enrich Yourself, #TRUMP Will Find It All. Better Get Supplies, You Might Want To Stay In the Basement. https://t.co/5Qw3vP8YDN',\n",
       " '@RealJamesWoods #JoeBiden is simply not the answer.',\n",
       " '#TrumpIsPathetic #Debates2020 #Trump #JoeBiden #Democrats #Republicans #vote #Florida #terrorist #Conservatives #Liberals #guns #voters #America #cnn #FoxNews #Debates2020 Armed Guards at Florida Polls Claim Hired By Trump Campaign https://t.co/QLDmjw7GRq',\n",
       " '#MarchToThePollsForJoe Restore decency to America VOTE!! #Biden #TrumpIsCompromised #QuidProQuo #TRUMP Dump selfish, reckless #Trump !!!! #EndTheChaos #TrumpsTheBiggestLiarEver #TrumpCrimeFamily https://t.co/fRTqtxDcIW',\n",
       " \"What's the difference between #JoeBiden and #HunterBiden and a pail of shit. See comments.\",\n",
       " 'Ive been comparing #JoeBiden to #MrRogers for awhile now, and not enough people get the reference. Maybe now they will. Thanks, #Republicans . https://t.co/3eENfLowAL',\n",
       " \"#Biden's plans 10 million #CleanEnergy jobs &amp; $2Trillion to fight #ClimateChaos https://t.co/uyisDau5ax\",\n",
       " \"Who out there watches the Pete Souza 2 hour special tonight on @MSNBC and still votes for #Trump ? Yes, it's a rhetorical question, still tell me who? Our rock was and still is Barack Obama, who wants nothing but the best for us and #JoeBiden to be our next President.\",\n",
       " '@Candace33rose @ByrdTia @megynkelly Who? #Biden? I know! Ive been alive as long as hes been in politics. Even Kamala called him a racist &amp; thats 1x I agree with her. Trump dont NEED asked that many times, ppl who cant think straight NEED that many answers.',\n",
       " '@Jillbiden46 @JoeBiden So proud of #Joe! #BidenTownHall #TownHall #Biden #BidenHarris2020',\n",
       " 'I can start marking all these Pro #Biden hashtags made by Chinese bots as spam now finally???? my god!!! Did Twitter eff up???? Did #chinabitchbiden trigger something???? #bidencares #votebidenharris #bidenharrislandslide #PresidentialDebate2020 #Trump2020 #MAGA @realDonaldTrump https://t.co/BWjmt59zqx',\n",
       " '#BLM #JoeBiden #DonaldTrump #Minecraft #Callofduty #BLMUK #Racism #Rasist #Black #BlackLivesMatter #BlackHistoryMonth #Slavery #Followforfollow #likeforlike #women #BLMUSA #America #American #offended #offensive #Labour #Democrats #Meme #BLMTerroristThugs #GeorgeFloyd #JacobBlake https://t.co/12dmXjcirZ',\n",
       " '@ScottBaio \"Anti-American socialist?\" I\\'ll take #Biden over the orange fascist any day!',\n",
       " 'Im gifing #JoeBiden into the White House. It worked for Trump with memes. https://t.co/QV2SfQBE9x',\n",
       " 'Every on on the #Zoom call said #jefferytoobin is hung like a gerbil! The #CNN crew is all dreaming of a #Biden win while beating their meat! These people are deranged! What a site! OH,OH,OHOOOOOOO, YES, YES #Biden s going to win!',\n",
       " '@realDonaldTrump Why hasn\\'t @realDonaldTrump commented on Iranian hacked emails seemingly from Proud Boys: \"Vote for Trump or else!\" Trump stooge, DNI Ratcliffe, who lied on his resume, said these Iranian emails featuring the Proud Boys were intended to hurt Trump. Huh? #Vote #Biden https://t.co/lwjXF0X0tZ',\n",
       " '@JenGranholm @JoeBiden @realDonaldTrump Yes. He did a great job. Concerned about that you man who quoted Joe from a radio interview. Hope they vote all vote for #JoeBiden',\n",
       " '@Reuters Unfortunately your polls are incorrect, the media is trying everything they can to help a corrupt politician #JoeBiden get elected but the American people have seen this show before in 2016. Look at your polls from 2016 in Pennsylvania and you will find the same wrong prediction',\n",
       " '@ggreenwald interesting thread on #biden corruption.',\n",
       " '@JoeBiden Give up the obvious non-caring pandering Joe. #Biden #Harris https://t.co/REFPaQGwEo',\n",
       " '\"If the last four years has taught us anything it is that there are no profiles in courage among senate #Republicans and that #McConnell always gets the votes he needs.\" My new blog on what happens if #Biden wins but the #GOP retains control of the senate. https://t.co/NFt1d7p9IV',\n",
       " \"On #CourtPacking, #Biden Would Create a Scholar's Panel to Study Changes rather than taking quick action. https://t.co/qgnvFRRD3t\",\n",
       " 'Ukraine to investigate leaked tapes with ex-president, Biden https://t.co/0mp3jGYGzV #joebiden',\n",
       " 'If you Ted, could only answer the question about why #HunterBidensLaptop leads to the man, #Biden ? Maybe #Biden is stuttering because all #HunterBidenEmails lead to him? https://t.co/aftCvEXPu8',\n",
       " 'Both #Twitter and Facebook blocked the distribution of links to a New York Post story about Democratic Party candidate Joe #Biden and his son Hunter Biden #socialism2020 https://t.co/pI3N7XGDLL',\n",
       " 'Ummmmm its very clear who won that debate. #winning #BidenTownHall #BidenHarris2020 #biden',\n",
       " 'Among other reasons, #FBI probably wont willingly admit to having the laptop b/c doing so might suggest that #Bidens son is a pedophile, addict, bag man who was likely shielded from consequences by @SecretService, @CIA, @FBI, others during the 44 admin. https://t.co/b7eDHe64m4',\n",
       " 'Can we all agree that the two candidates are the two worst choices for president in the history of the United States? #debate #Trump #Biden',\n",
       " \"Republican senator Ben Sasse predicts Donald Trump will 'LOSE' - #Biden #Harris #Trump #Pence #GOP #Republican #Democrat #Democrats #COVID19 #Covid #Coronavirus https://t.co/iVg9WYkk85\",\n",
       " '@Kevswatching Me #TrumpIsCompromised #DrFauci endorses #JoeBiden #BidenHarris2020Landslide',\n",
       " 'This is all #JoeBiden could have honestly said tonight to the American voters except for the nowThe current news says #Joe has finally been busy accomplishing something ... a sellout of America for personal enrichment https://t.co/lv1C3c17Dz',\n",
       " \"I have a tremendous respect for @krystalball as she's been one of the few to underscore @Ojeda4America's reasons to reinvest in rural areas, but: @JoeBiden is a true giant in doing that. #Biden must unite the country; Sanders instead sowed discord in the Democratic Party itself. https://t.co/pklg24hFqp\",\n",
       " '#FBI is corrupt #DOJ is doing who knows what #Durham is a world class slowpoke #Biden is a criminal @HillaryClinton also #Obama looked the other way Massive gov corruption #FakeNewsMedia abets their crimes. Are you afraid yet?',\n",
       " \"Warm October Night in Philly. Hopefully things are heating up in #JoeBiden's home state where Delaware State Police have #HunterBidensLaptop &amp; are investigating who the underage girls were in the photos &amp; texts to then VP Biden claiming he smoked crack naked with them naked. LOL\",\n",
       " '#Trump #Biden #TrumpCrimeFamilyForPrison The Russian bots are hitting it hard today! If you want to piss them off put \"Hey Bot - Vote Biden\" on any tweet you see that comes from a Trumper under 50 followers. They are so poorly educated these trolls.',\n",
       " 'https://t.co/ljRI5ConoQ #electionday #joebiden #kamalaharris #vote2020 #vote for ultra for amazing for super champion',\n",
       " '@RLSeikel @MomsDemand @JoeBiden @Everytown @TeamJoe Excellent!! Wish I could go, too. I know youll represent. #MomsDemandAction #MomsAreEverywhere #JoeBiden',\n",
       " 'the unsettling feeling of an old Marilyn Manson music video If #Biden wins, #antifa wins. VOTE #JobsNotMobs #mnleg #wiright #twill #migov #valeg #2a #2aVA https://t.co/dgYXqTxEJY',\n",
       " \"EXCLUSIVE PHOTO: Joe Biden Meeting with Hunter's Business Partner Devon Archer in VP Office 5 Days Before Going to Ukraine to Sign Burisma Deal #FollowTheMoney #JoeBiden https://t.co/gu3EOGQtgz\",\n",
       " 'We agree. Keep Trump in office and prevent the election of #Biden who is for sale to the highest bidder. https://t.co/Z5VAT70fow',\n",
       " '#Biden and #Trump will push to weak the #Dollar and adopt large #STIMULUSPACKAGE to boost the #economy, only disadvantage is a high #Inflation - good for #Gold and #Silver! #investing #trading #USElection2020',\n",
       " '@JoeBiden \"No Red States, No Blue States just the #UnitedStatesofAmerica!\" ~ #JoeBiden Im Joe Biden and I approve this message. https://t.co/CZWXtWsghW @ProjectLincoln',\n",
       " '@NayNay13304901 @JoeBiden Going by your bio and timeline youre a Soros funded shill for #Biden and the Global New World Order! We see you',\n",
       " 'Check out my Gig on Fiverr: I will do custom and stylish t shirt design https://t.co/uF0dQDLhLe #Buhari #HARRYISGOLDEN #PeygamberimeHakareteDurDe #STADIA #2YearsWithMono #Duffy #GraciasKarchez #xf2020 #TrumpIsPathetic #Abeg #Camila #Bubu #Roofe #Leno #Biden',\n",
       " 'From Captain America - \"This is 100% relevant\" - \"These were the offices of the #Ukrainian that they used to launder the missing billion in aid that #Obama sent, and #Biden was point man on.\" https://t.co/g3tb3I1dA4',\n",
       " 'Folks who support #JoeBiden are voting up one side of the Sunshine State and down the other! #GoJoe! https://t.co/mg7MXrjeur',\n",
       " '@EricTrump Must watch for #ProLife Evangelicals: Pro-Life #Evangelical #Pastor Joel #Hunter Is Backing #Biden. https://t.co/9KjqAXXCsK',\n",
       " '#EndTheChaos Vote Biden Harris https://t.co/Ngv5LM0uBp #FloridaForBiden #VoteBlueDownBallot #JoeBiden #JoeWillLeadUs #BidenHarrisLandslide2020 #democracy #TrumpIsARacist #coronavirus #VoteBlueToEndThisNightmare #VoteBiden #VoteBidenHarrisToSaveAmerica #VoteEarly #Vote2020 https://t.co/Fe1MJTMKiO',\n",
       " '#BelieveInAmerica #TrumpIsALaughingStock #LetsGetSerious #StrongerWithBiden #TrumpVirus #pedotrump #BidenCares #BidenHarris2020 #BidenHarris #Biden #DitchMitch #DitchMoscowMitch #MoscowMitch #republicansforbiden #FloridaForBiden #BlameTrump #TrumpChinaBankAccount #Biden2020 https://t.co/oCoFNshjtM',\n",
       " '#JoeBiden gaffes, blunders &amp; brain breakdowns https://t.co/p7fepCIGs6',\n",
       " 'Has the Animaniacs reboot already jumped the shark?#Animaniacs #Animaniacs2020 #animation #Cartoonber2020 #Cartoons #Trump #Election2020 #Biden #Review #ThursdayThoughts #Hulu https://t.co/efemYM5HZ9',\n",
       " '#democrats trying to take heat off #biden https://t.co/drxvUVcNq2']"
      ]
     },
     "execution_count": 28,
     "metadata": {},
     "output_type": "execute_result"
    }
   ],
   "source": [
    "subset.tolist()"
   ]
  },
  {
   "cell_type": "code",
   "execution_count": 29,
   "metadata": {},
   "outputs": [
    {
     "data": {
      "text/plain": [
       "{'input_ids': tensor([[  101,   108, 31156,  ...,     0,     0,     0],\n",
       "        [  101, 16411, 10107,  ...,     0,     0,     0],\n",
       "        [  101,   108, 31156,  ...,     0,     0,     0],\n",
       "        ...,\n",
       "        [  101,   108, 13062,  ...,     0,     0,     0],\n",
       "        [  101, 45896, 10105,  ...,     0,     0,     0],\n",
       "        [  101,   108, 30776,  ...,     0,     0,     0]]), 'token_type_ids': tensor([[0, 0, 0,  ..., 0, 0, 0],\n",
       "        [0, 0, 0,  ..., 0, 0, 0],\n",
       "        [0, 0, 0,  ..., 0, 0, 0],\n",
       "        ...,\n",
       "        [0, 0, 0,  ..., 0, 0, 0],\n",
       "        [0, 0, 0,  ..., 0, 0, 0],\n",
       "        [0, 0, 0,  ..., 0, 0, 0]]), 'attention_mask': tensor([[1, 1, 1,  ..., 0, 0, 0],\n",
       "        [1, 1, 1,  ..., 0, 0, 0],\n",
       "        [1, 1, 1,  ..., 0, 0, 0],\n",
       "        ...,\n",
       "        [1, 1, 1,  ..., 0, 0, 0],\n",
       "        [1, 1, 1,  ..., 0, 0, 0],\n",
       "        [1, 1, 1,  ..., 0, 0, 0]])}"
      ]
     },
     "execution_count": 29,
     "metadata": {},
     "output_type": "execute_result"
    }
   ],
   "source": [
    "tokens = tokenizer(subset.tolist(), padding=True, truncation=True, return_tensors=\"pt\")\n",
    "tokens"
   ]
  },
  {
   "cell_type": "code",
   "execution_count": 31,
   "metadata": {},
   "outputs": [
    {
     "data": {
      "text/plain": [
       "BaseModelOutputWithPoolingAndCrossAttentions(last_hidden_state=tensor([[[ 0.0218, -0.1480, -0.1161,  ...,  0.1724,  0.0806,  0.0090],\n",
       "         [-0.6128, -0.2928, -0.6081,  ...,  0.4386,  0.2196, -0.0694],\n",
       "         [-0.1392, -0.2283, -0.4664,  ..., -0.1014, -0.2945,  0.0442],\n",
       "         ...,\n",
       "         [ 0.2303, -0.0581,  0.4358,  ...,  0.2609, -0.2466, -0.0886],\n",
       "         [-0.2509, -0.3381,  0.3361,  ..., -0.0451, -0.2577, -0.1130],\n",
       "         [-0.1320,  0.0829,  0.6726,  ...,  0.3365, -0.0341, -0.0809]],\n",
       "\n",
       "        [[-0.2471, -0.0867, -0.3470,  ...,  0.2191,  0.2480, -0.1187],\n",
       "         [ 0.0937,  0.1482,  0.4173,  ..., -0.1029,  0.5192,  0.0935],\n",
       "         [ 0.6530, -0.1282,  0.4261,  ...,  0.1304,  0.1014,  0.2731],\n",
       "         ...,\n",
       "         [-0.1069, -0.4241,  0.0896,  ...,  0.6869,  0.3223, -0.6714],\n",
       "         [ 0.1022, -0.3057,  0.3623,  ...,  0.3992,  0.2913, -0.3916],\n",
       "         [ 0.2204, -0.4331,  0.1887,  ...,  0.4529,  0.3797, -0.6594]],\n",
       "\n",
       "        [[-0.2304, -0.2367, -0.3354,  ...,  0.1332,  0.1862,  0.0883],\n",
       "         [-0.6032, -0.4057, -0.6250,  ...,  0.3369,  0.1464, -0.2549],\n",
       "         [ 0.1328, -0.1905, -0.2652,  ..., -0.3576, -0.1326,  0.1202],\n",
       "         ...,\n",
       "         [ 0.1514, -0.2965, -0.2573,  ..., -0.0816,  0.6704, -0.2391],\n",
       "         [-0.1504, -0.1907, -0.0409,  ...,  0.0339,  0.2152, -0.1480],\n",
       "         [-0.2551, -0.4397,  0.2044,  ...,  0.5098,  0.0762, -0.2126]],\n",
       "\n",
       "        ...,\n",
       "\n",
       "        [[-0.2806, -0.4472, -0.1329,  ...,  0.2496,  0.1331,  0.0326],\n",
       "         [-0.9499, -0.9472, -0.2288,  ...,  0.1580,  0.0923, -0.1008],\n",
       "         [-0.4899, -0.9573,  0.5048,  ..., -0.0126, -0.6836,  0.0238],\n",
       "         ...,\n",
       "         [ 0.2205, -0.6576,  0.5490,  ...,  0.3446,  0.4410, -0.6270],\n",
       "         [-0.0861, -0.1699,  0.6891,  ...,  0.2053,  0.2246, -0.4359],\n",
       "         [-0.0315,  0.1167,  0.9089,  ...,  0.6695,  0.4858, -0.4577]],\n",
       "\n",
       "        [[-0.0961, -0.0782, -0.1478,  ...,  0.2731,  0.1188,  0.0174],\n",
       "         [-0.5621, -0.0741,  0.4553,  ...,  0.1620, -0.2751, -0.3593],\n",
       "         [-0.4247, -0.2391, -0.1515,  ...,  0.6394, -0.3168,  0.1773],\n",
       "         ...,\n",
       "         [-0.1480,  0.2090, -0.0067,  ...,  0.0903,  0.1370,  0.1169],\n",
       "         [ 0.0812,  0.1686,  0.4496,  ...,  0.5723, -0.0601, -0.1702],\n",
       "         [-0.3856,  0.0793, -0.1429,  ...,  0.3719,  0.1477,  0.0875]],\n",
       "\n",
       "        [[-0.2441, -0.2206, -0.1367,  ...,  0.0982,  0.1937, -0.0897],\n",
       "         [-0.6085, -0.5053, -0.3986,  ...,  0.4394,  0.6196, -0.4910],\n",
       "         [-0.2139,  0.0186, -0.2187,  ..., -0.4813,  0.4584, -0.3021],\n",
       "         ...,\n",
       "         [ 0.1014, -0.1061,  0.6893,  ...,  0.5888,  0.0600, -0.2475],\n",
       "         [ 0.1427, -0.1341,  0.5590,  ...,  0.4841,  0.0520, -0.2739],\n",
       "         [ 0.1502, -0.1672,  0.5275,  ...,  0.4612,  0.0895, -0.2415]]],\n",
       "       grad_fn=<NativeLayerNormBackward0>), pooler_output=tensor([[ 0.2197, -0.1080,  0.2457,  ..., -0.1250,  0.1453,  0.2175],\n",
       "        [ 0.1547, -0.0398,  0.2295,  ..., -0.0026,  0.0312,  0.0884],\n",
       "        [ 0.1937, -0.0767,  0.2297,  ..., -0.0391,  0.0443,  0.1333],\n",
       "        ...,\n",
       "        [ 0.2014,  0.0008,  0.1561,  ..., -0.0735,  0.1345,  0.1453],\n",
       "        [ 0.2975, -0.1036,  0.3024,  ..., -0.0957,  0.0674,  0.1805],\n",
       "        [ 0.2010, -0.0552,  0.2557,  ..., -0.0414,  0.0168,  0.1433]],\n",
       "       grad_fn=<TanhBackward0>), hidden_states=None, past_key_values=None, attentions=None, cross_attentions=None)"
      ]
     },
     "execution_count": 31,
     "metadata": {},
     "output_type": "execute_result"
    }
   ],
   "source": [
    "outputs = model(**tokens)\n",
    "outputs"
   ]
  },
  {
   "cell_type": "code",
   "execution_count": 34,
   "metadata": {},
   "outputs": [],
   "source": [
    "embeddings = outputs.last_hidden_state[:, 0, :]"
   ]
  },
  {
   "cell_type": "code",
   "execution_count": null,
   "metadata": {},
   "outputs": [],
   "source": []
  }
 ],
 "metadata": {
  "kernelspec": {
   "display_name": "py312",
   "language": "python",
   "name": "python3"
  },
  "language_info": {
   "codemirror_mode": {
    "name": "ipython",
    "version": 3
   },
   "file_extension": ".py",
   "mimetype": "text/x-python",
   "name": "python",
   "nbconvert_exporter": "python",
   "pygments_lexer": "ipython3",
   "version": "3.12.4"
  }
 },
 "nbformat": 4,
 "nbformat_minor": 2
}
