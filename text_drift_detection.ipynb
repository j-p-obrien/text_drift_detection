{
 "cells": [
  {
   "cell_type": "code",
   "execution_count": 1,
   "metadata": {},
   "outputs": [
    {
     "name": "stderr",
     "output_type": "stream",
     "text": [
      "/anaconda/envs/py312/lib/python3.12/site-packages/tqdm/auto.py:21: TqdmWarning: IProgress not found. Please update jupyter and ipywidgets. See https://ipywidgets.readthedocs.io/en/stable/user_install.html\n",
      "  from .autonotebook import tqdm as notebook_tqdm\n"
     ]
    },
    {
     "name": "stdout",
     "output_type": "stream",
     "text": [
      "GPU available\n"
     ]
    }
   ],
   "source": [
    "import pickle\n",
    "import transformers\n",
    "import torch\n",
    "import pandas as pd\n",
    "from alibi_detect.cd import LSDDDrift, MMDDrift\n",
    "\n",
    "if torch.cuda.is_available():\n",
    "    device = torch.device('cuda')\n",
    "    print('GPU available')\n",
    "else:\n",
    "    device = torch.device('cpu')\n",
    "    print('Uh oh, GPU unavailable')"
   ]
  },
  {
   "cell_type": "code",
   "execution_count": 2,
   "metadata": {},
   "outputs": [],
   "source": [
    "def assemble_data() -> pd.DataFrame:\n",
    "    biden_first: list[tuple[any, str]] = pickle.load(open(\"biden_first_half.pickle\", 'rb'))\n",
    "    biden_last = pickle.load(open(\"biden_last_half.pickle\", 'rb'))\n",
    "    biden_first.extend(biden_last)\n",
    "    return pd.DataFrame(biden_first, columns=[\"datetime\", \"tweet\"])\n",
    "\n",
    "biden_df = assemble_data()"
   ]
  },
  {
   "cell_type": "code",
   "execution_count": 3,
   "metadata": {},
   "outputs": [
    {
     "data": {
      "text/html": [
       "<div>\n",
       "<style scoped>\n",
       "    .dataframe tbody tr th:only-of-type {\n",
       "        vertical-align: middle;\n",
       "    }\n",
       "\n",
       "    .dataframe tbody tr th {\n",
       "        vertical-align: top;\n",
       "    }\n",
       "\n",
       "    .dataframe thead th {\n",
       "        text-align: right;\n",
       "    }\n",
       "</style>\n",
       "<table border=\"1\" class=\"dataframe\">\n",
       "  <thead>\n",
       "    <tr style=\"text-align: right;\">\n",
       "      <th></th>\n",
       "      <th>datetime</th>\n",
       "      <th>tweet</th>\n",
       "    </tr>\n",
       "  </thead>\n",
       "  <tbody>\n",
       "    <tr>\n",
       "      <th>0</th>\n",
       "      <td>2020-10-15 00:00:20</td>\n",
       "      <td>@IslandGirlPRV @BradBeauregardJ @MeidasTouch T...</td>\n",
       "    </tr>\n",
       "    <tr>\n",
       "      <th>1</th>\n",
       "      <td>2020-10-15 00:00:21</td>\n",
       "      <td>@chrislongview Watching and setting dvr. Lets ...</td>\n",
       "    </tr>\n",
       "    <tr>\n",
       "      <th>2</th>\n",
       "      <td>2020-10-15 00:00:22</td>\n",
       "      <td>#censorship #HunterBiden #Biden #BidenEmails #...</td>\n",
       "    </tr>\n",
       "    <tr>\n",
       "      <th>3</th>\n",
       "      <td>2020-10-15 00:00:23</td>\n",
       "      <td>\"IS THIS WRONG??!!\" Cory Booker's BRILLIANT Fi...</td>\n",
       "    </tr>\n",
       "    <tr>\n",
       "      <th>4</th>\n",
       "      <td>2020-10-15 00:00:25</td>\n",
       "      <td>In 2020, #NYPost is being #censorship #CENSORE...</td>\n",
       "    </tr>\n",
       "    <tr>\n",
       "      <th>...</th>\n",
       "      <td>...</td>\n",
       "      <td>...</td>\n",
       "    </tr>\n",
       "    <tr>\n",
       "      <th>521116</th>\n",
       "      <td>2020-11-08 23:59:16</td>\n",
       "      <td>Mr. #Biden, tear down that wall (with #Mexico)...</td>\n",
       "    </tr>\n",
       "    <tr>\n",
       "      <th>521117</th>\n",
       "      <td>2020-11-08 23:59:32</td>\n",
       "      <td>NYT: #BeratAlbayraks departure may also signal...</td>\n",
       "    </tr>\n",
       "    <tr>\n",
       "      <th>521118</th>\n",
       "      <td>2020-11-08 23:59:33</td>\n",
       "      <td>@staceyabrams Thank you for all your support a...</td>\n",
       "    </tr>\n",
       "    <tr>\n",
       "      <th>521119</th>\n",
       "      <td>2020-11-08 23:59:34</td>\n",
       "      <td>@elnuevoherald LOS MEDIOS A LA FUERZA QUIEREN ...</td>\n",
       "    </tr>\n",
       "    <tr>\n",
       "      <th>521120</th>\n",
       "      <td>2020-11-08 23:59:38</td>\n",
       "      <td>Stop laying @CNN ! #Paris and #London dont giv...</td>\n",
       "    </tr>\n",
       "  </tbody>\n",
       "</table>\n",
       "<p>521121 rows × 2 columns</p>\n",
       "</div>"
      ],
      "text/plain": [
       "                  datetime                                              tweet\n",
       "0      2020-10-15 00:00:20  @IslandGirlPRV @BradBeauregardJ @MeidasTouch T...\n",
       "1      2020-10-15 00:00:21  @chrislongview Watching and setting dvr. Lets ...\n",
       "2      2020-10-15 00:00:22  #censorship #HunterBiden #Biden #BidenEmails #...\n",
       "3      2020-10-15 00:00:23  \"IS THIS WRONG??!!\" Cory Booker's BRILLIANT Fi...\n",
       "4      2020-10-15 00:00:25  In 2020, #NYPost is being #censorship #CENSORE...\n",
       "...                    ...                                                ...\n",
       "521116 2020-11-08 23:59:16  Mr. #Biden, tear down that wall (with #Mexico)...\n",
       "521117 2020-11-08 23:59:32  NYT: #BeratAlbayraks departure may also signal...\n",
       "521118 2020-11-08 23:59:33  @staceyabrams Thank you for all your support a...\n",
       "521119 2020-11-08 23:59:34  @elnuevoherald LOS MEDIOS A LA FUERZA QUIEREN ...\n",
       "521120 2020-11-08 23:59:38  Stop laying @CNN ! #Paris and #London dont giv...\n",
       "\n",
       "[521121 rows x 2 columns]"
      ]
     },
     "execution_count": 3,
     "metadata": {},
     "output_type": "execute_result"
    }
   ],
   "source": [
    "biden_df"
   ]
  },
  {
   "cell_type": "code",
   "execution_count": 4,
   "metadata": {},
   "outputs": [],
   "source": [
    "post_debate_date = \"2020-10-23\"\n",
    "post_election_date = \"2020-11-04\"\n",
    "biden_pre_debate = biden_df[biden_df[\"datetime\"] < post_debate_date]\n",
    "biden_post_debate = biden_df[(biden_df[\"datetime\"] >= post_debate_date) & (biden_df[\"datetime\"] < post_election_date)]\n",
    "biden_post_election = biden_df[biden_df[\"datetime\"] >= post_election_date]"
   ]
  },
  {
   "cell_type": "code",
   "execution_count": 5,
   "metadata": {},
   "outputs": [
    {
     "name": "stderr",
     "output_type": "stream",
     "text": [
      "/anaconda/envs/py312/lib/python3.12/site-packages/transformers/tokenization_utils_base.py:1601: FutureWarning: `clean_up_tokenization_spaces` was not set. It will be set to `True` by default. This behavior will be depracted in transformers v4.45, and will be then set to `False` by default. For more details check this issue: https://github.com/huggingface/transformers/issues/31884\n",
      "  warnings.warn(\n"
     ]
    }
   ],
   "source": [
    "model_checkpoint = \"bert-base-multilingual-cased\"\n",
    "tokenizer = transformers.BertTokenizer.from_pretrained(model_checkpoint)\n",
    "model = transformers.BertModel.from_pretrained(model_checkpoint)"
   ]
  },
  {
   "cell_type": "code",
   "execution_count": 10,
   "metadata": {},
   "outputs": [
    {
     "name": "stdout",
     "output_type": "stream",
     "text": [
      "{'data': {'is_drift': 0, 'distance': -0.001323401927947998, 'p_val': 1.0, 'threshold': 0.05, 'distance_threshold': array(0.00080585, dtype=float32)}, 'meta': {'name': 'MMDDriftTorch', 'online': False, 'data_type': None, 'version': '0.12.0', 'detector_type': 'drift', 'backend': 'pytorch'}}\n",
      "{'data': {'is_drift': 0, 'distance': -0.0004379153251647949, 'p_val': 0.8899999856948853, 'threshold': 0.05, 'distance_threshold': array(0.00095004, dtype=float32)}, 'meta': {'name': 'MMDDriftTorch', 'online': False, 'data_type': None, 'version': '0.12.0', 'detector_type': 'drift', 'backend': 'pytorch'}}\n",
      "{'data': {'is_drift': 1, 'distance': 0.0008519887924194336, 'p_val': 0.03999999910593033, 'threshold': 0.05, 'distance_threshold': array(0.00075525, dtype=float32)}, 'meta': {'name': 'MMDDriftTorch', 'online': False, 'data_type': None, 'version': '0.12.0', 'detector_type': 'drift', 'backend': 'pytorch'}}\n",
      "{'data': {'is_drift': 1, 'distance': 0.002372264862060547, 'p_val': 0.0, 'threshold': 0.05, 'distance_threshold': array(0.00094891, dtype=float32)}, 'meta': {'name': 'MMDDriftTorch', 'online': False, 'data_type': None, 'version': '0.12.0', 'detector_type': 'drift', 'backend': 'pytorch'}}\n",
      "{'data': {'is_drift': 0, 'distance': 2.2641310351900756e-05, 'p_val': 1.0, 'threshold': 0.05, 'distance_threshold': array(0.0021583, dtype=float32)}, 'meta': {'name': 'LSDDDriftTorch', 'online': False, 'data_type': None, 'version': '0.12.0', 'detector_type': 'drift', 'backend': 'pytorch'}}\n",
      "{'data': {'is_drift': 0, 'distance': 0.0003729583404492587, 'p_val': 0.8799999952316284, 'threshold': 0.05, 'distance_threshold': array(0.0020407, dtype=float32)}, 'meta': {'name': 'LSDDDriftTorch', 'online': False, 'data_type': None, 'version': '0.12.0', 'detector_type': 'drift', 'backend': 'pytorch'}}\n",
      "{'data': {'is_drift': 0, 'distance': 0.0012439568527042866, 'p_val': 0.11999999731779099, 'threshold': 0.05, 'distance_threshold': array(0.00148121, dtype=float32)}, 'meta': {'name': 'LSDDDriftTorch', 'online': False, 'data_type': None, 'version': '0.12.0', 'detector_type': 'drift', 'backend': 'pytorch'}}\n",
      "{'data': {'is_drift': 1, 'distance': 0.0026089355815201998, 'p_val': 0.0, 'threshold': 0.05, 'distance_threshold': array(0.0016291, dtype=float32)}, 'meta': {'name': 'LSDDDriftTorch', 'online': False, 'data_type': None, 'version': '0.12.0', 'detector_type': 'drift', 'backend': 'pytorch'}}\n"
     ]
    }
   ],
   "source": [
    "n_epochs = 1\n",
    "n = 1000\n",
    "\n",
    "model.train()\n",
    "model.to(device)\n",
    "with torch.no_grad():\n",
    "    for i in range(n_epochs):\n",
    "        pre_debate_null = tokenizer(biden_pre_debate[\"tweet\"].sample(n).tolist(), padding=True, truncation=True, return_tensors=\"pt\", return_token_type_ids=False).to(device)\n",
    "        pre_debate_null_embeddings = model(**pre_debate_null).pooler_output.cpu().numpy()\n",
    "        del pre_debate_null\n",
    "\n",
    "        pre_debate = tokenizer(biden_pre_debate[\"tweet\"].sample(n).tolist(), padding=True, truncation=True, return_tensors=\"pt\", return_token_type_ids=False).to(device)\n",
    "        pre_debate_embeddings = model(**pre_debate).pooler_output.cpu().numpy()\n",
    "        del pre_debate\n",
    "\n",
    "        post_debate = tokenizer(biden_post_debate[\"tweet\"].sample(n).tolist(), padding=True, truncation=True, return_tensors=\"pt\", return_token_type_ids=False).to(device)\n",
    "        post_debate_embeddings = model(**post_debate).pooler_output.cpu().numpy()\n",
    "        del post_debate\n",
    "\n",
    "        post_election = tokenizer(biden_post_election[\"tweet\"].sample(n).tolist(), padding=True, truncation=True, return_tensors=\"pt\", return_token_type_ids=False).to(device)\n",
    "        post_election_embeddings = model(**post_election).pooler_output.cpu().numpy()\n",
    "        del post_election\n",
    "\n",
    "\n",
    "        mmddrift = MMDDrift(x_ref=pre_debate_null_embeddings, backend=\"pytorch\", p_val=.05)\n",
    "        lsdddrift = LSDDDrift(x_ref=pre_debate_null_embeddings, backend=\"pytorch\", p_val=.05)\n",
    "\n",
    "        print(mmddrift.predict(pre_debate_null_embeddings))\n",
    "        print(mmddrift.predict(pre_debate_embeddings))\n",
    "        print(mmddrift.predict(post_debate_embeddings))\n",
    "        print(mmddrift.predict(post_election_embeddings))\n",
    "\n",
    "        print(lsdddrift.predict(pre_debate_null_embeddings))\n",
    "        print(lsdddrift.predict(pre_debate_embeddings))\n",
    "        print(lsdddrift.predict(post_debate_embeddings))\n",
    "        print(lsdddrift.predict(post_election_embeddings))\n",
    "\n",
    "        del pre_debate_null_embeddings, pre_debate_embeddings, post_debate_embeddings, post_election_embeddings\n",
    "        torch.cuda.empty_cache()\n",
    "\n",
    "\n",
    "\n",
    "    "
   ]
  }
 ],
 "metadata": {
  "kernelspec": {
   "display_name": "py312",
   "language": "python",
   "name": "python3"
  },
  "language_info": {
   "codemirror_mode": {
    "name": "ipython",
    "version": 3
   },
   "file_extension": ".py",
   "mimetype": "text/x-python",
   "name": "python",
   "nbconvert_exporter": "python",
   "pygments_lexer": "ipython3",
   "version": "3.12.4"
  }
 },
 "nbformat": 4,
 "nbformat_minor": 2
}
